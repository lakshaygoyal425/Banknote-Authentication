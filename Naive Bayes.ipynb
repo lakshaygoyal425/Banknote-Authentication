{
 "cells": [
  {
   "cell_type": "code",
   "execution_count": 1,
   "metadata": {},
   "outputs": [],
   "source": [
    "import numpy as np\n",
    "from random import randrange\n",
    "import csv\n",
    "import math"
   ]
  },
  {
   "cell_type": "code",
   "execution_count": 106,
   "metadata": {},
   "outputs": [],
   "source": [
    "def load_csv_dataset(filename):\n",
    "    \"\"\"Load the CSV file\"\"\"\n",
    "    lines = csv.reader(open(filename, 'rt'))\n",
    "    dataset = list(lines)\n",
    "    for i in range(len(dataset)):\n",
    "        dataset[i] = [float(x) for x in dataset[i]]  # Convert String to Float numbers\n",
    "    return dataset"
   ]
  },
  {
   "cell_type": "code",
   "execution_count": 107,
   "metadata": {},
   "outputs": [],
   "source": [
    "def mean(numbers):\n",
    "    \"\"\"Returns the mean of numbers\"\"\"\n",
    "    return np.mean(numbers)"
   ]
  },
  {
   "cell_type": "code",
   "execution_count": 108,
   "metadata": {},
   "outputs": [],
   "source": [
    "def stdev(numbers):\n",
    "    \"\"\"Returns the std_deviation of numbers\"\"\"\n",
    "    return np.std(numbers)"
   ]
  },
  {
   "cell_type": "code",
   "execution_count": 109,
   "metadata": {},
   "outputs": [],
   "source": [
    "def sigmoid(z):\n",
    "    \"\"\"Returns the sigmoid number\"\"\"\n",
    "    return 1.0 / (1.0 + math.exp(-z))"
   ]
  },
  {
   "cell_type": "code",
   "execution_count": 110,
   "metadata": {},
   "outputs": [],
   "source": [
    "def cross_validation_split(dataset, n_folds):\n",
    "    \"\"\"Split dataset into the k folds. Returns the list of k folds\"\"\"\n",
    "    dataset_split = list()\n",
    "    dataset_copy = list(dataset)\n",
    "    fold_size = int(len(dataset) / n_folds)\n",
    "    for i in range(n_folds):\n",
    "        fold = list()\n",
    "        while len(fold) < fold_size:\n",
    "            index = randrange(len(dataset_copy))\n",
    "            fold.append(dataset_copy.pop(index))\n",
    "        dataset_split.append(fold)\n",
    "    return dataset_split"
   ]
  },
  {
   "cell_type": "code",
   "execution_count": 111,
   "metadata": {},
   "outputs": [],
   "source": [
    "def accuracy_metric(actual, predicted):\n",
    "    \"\"\"Calculate accuracy percentage\"\"\"\n",
    "    correct = 0\n",
    "    for i in range(len(actual)):\n",
    "        if actual[i] == predicted[i]:\n",
    "            correct += 1\n",
    "    return correct / float(len(actual)) * 100.0"
   ]
  },
  {
   "cell_type": "code",
   "execution_count": 112,
   "metadata": {},
   "outputs": [],
   "source": [
    "def evaluate_algorithm(dataset, algorithm, n_folds, ):\n",
    "    \"\"\"Evaluate an algorithm using a cross validation split\"\"\"\n",
    "    folds = cross_validation_split(dataset, n_folds)\n",
    "    scores = list()\n",
    "    for fold in folds:\n",
    "        train_set = list(folds)\n",
    "        train_set.remove(fold)\n",
    "        train_set = sum(train_set, [])\n",
    "        test_set = list()\n",
    "        for row in fold:\n",
    "            row_copy = list(row)\n",
    "            test_set.append(row_copy)\n",
    "            row_copy[-1] = None\n",
    "        predicted = algorithm(train_set, test_set, )\n",
    "        actual = [row[-1] for row in fold]\n",
    "        accuracy = accuracy_metric(actual, predicted)\n",
    "        scores.append(accuracy)\n",
    "    return scores"
   ]
  },
  {
   "cell_type": "code",
   "execution_count": 113,
   "metadata": {},
   "outputs": [],
   "source": [
    "def separate_by_class(dataset):\n",
    "    \"\"\"Split training set by class value\"\"\"\n",
    "    separated = {}\n",
    "    for i in range(len(dataset)):\n",
    "        row = dataset[i]\n",
    "        if row[-1] not in separated:\n",
    "            separated[row[-1]] = []\n",
    "        separated[row[-1]].append(row)\n",
    "    return separated"
   ]
  },
  {
   "cell_type": "code",
   "execution_count": 114,
   "metadata": {},
   "outputs": [],
   "source": [
    "def model(dataset):\n",
    "    \"\"\"Find the mean and standard deviation of each feature in dataset\"\"\"\n",
    "    models = [(mean(attribute), stdev(attribute)) for attribute in zip(*dataset)]\n",
    "    models.pop() #Remove last entry because it is class value.\n",
    "    return models"
   ]
  },
  {
   "cell_type": "code",
   "execution_count": 123,
   "metadata": {},
   "outputs": [],
   "source": [
    "def model_by_class(dataset):\n",
    "    \"\"\"find the mean and standard deviation of each feature in dataset by their class\"\"\"\n",
    "    separated = separate_by_class(dataset)\n",
    "    class_models = {}\n",
    "    for (classValue, instances) in separated.items():\n",
    "        class_models[classValue] = model(instances)\n",
    "    return class_models"
   ]
  },
  {
   "cell_type": "code",
   "execution_count": 124,
   "metadata": {},
   "outputs": [],
   "source": [
    "def calculate_pdf(x, mean, stdev):\n",
    "    \"\"\"Calculate probability using gaussian density function\"\"\"\n",
    "    if stdev == 0.0:\n",
    "        if x == mean:\n",
    "            return 1.0\n",
    "        else:\n",
    "            return 0.0\n",
    "    exponent = math.exp(-(math.pow(x - mean, 2) / (2 * math.pow(stdev, 2))))\n",
    "    return 1 / (math.sqrt(2 * math.pi) * stdev) * exponent"
   ]
  },
  {
   "cell_type": "code",
   "execution_count": 131,
   "metadata": {},
   "outputs": [],
   "source": [
    "def calculate_class_probabilities(models, input):\n",
    "    \"\"\"Calculate the class probability for input sample. Combine probability of each feature\"\"\"\n",
    "    probabilities = {}\n",
    "    for (classValue, classModels) in models.items():\n",
    "        probabilities[classValue] = 1\n",
    "        for i in range(len(classModels)):\n",
    "            (mean, stdev) = classModels[i]\n",
    "            x = input[i]\n",
    "            probabilities[classValue] *= calculate_pdf(x, mean, stdev)\n",
    "    return probabilities"
   ]
  },
  {
   "cell_type": "code",
   "execution_count": 137,
   "metadata": {},
   "outputs": [],
   "source": [
    "def predict(models, inputVector):\n",
    "    \"\"\"Compare probability for each class. Return the class label which has max probability.\"\"\"\n",
    "    probabilities = calculate_class_probabilities(models, inputVector)\n",
    "    (bestLabel, bestProb) = (None, -1)\n",
    "    for (classValue, probability) in probabilities.items():\n",
    "        if bestLabel is None or probability > bestProb:\n",
    "            bestProb = probability\n",
    "            bestLabel = classValue\n",
    "    return bestLabel"
   ]
  },
  {
   "cell_type": "code",
   "execution_count": 138,
   "metadata": {},
   "outputs": [],
   "source": [
    "def getPredictions(models, testSet):\n",
    "    \"\"\"Get class label for each value in test set.\"\"\"\n",
    "    predictions = []\n",
    "    for i in range(len(testSet)):\n",
    "        result = predict(models, testSet[i])\n",
    "        predictions.append(result)\n",
    "    return predictions"
   ]
  },
  {
   "cell_type": "code",
   "execution_count": 139,
   "metadata": {},
   "outputs": [],
   "source": [
    "def naive_bayes(train, test, ):\n",
    "    \"\"\"Create a naive bayes model. Then test the model and returns the testing result.\"\"\"\n",
    "    summaries = model_by_class(train)\n",
    "    predictions = getPredictions(summaries, test)\n",
    "    return predictions"
   ]
  },
  {
   "cell_type": "code",
   "execution_count": 149,
   "metadata": {},
   "outputs": [],
   "source": [
    "def main():\n",
    "    # load and prepare data\n",
    "    filename = 'banknote.csv'\n",
    "    \n",
    "    dataset = load_csv_dataset(filename)\n",
    "\n",
    "    n_folds = 5\n",
    "\n",
    "    print(\"---------- Gaussian Naive Bayes ---------------\")\n",
    "    accuracy_naive = evaluate_algorithm(dataset, naive_bayes, n_folds)\n",
    "    print(\"Naive Bayes Classification\")\n",
    "    print('Accuracy in each fold: %s' % accuracy_naive)\n",
    "    print('Average Accuracy: %f' % (sum(accuracy_naive) / len(accuracy_naive)))"
   ]
  },
  {
   "cell_type": "code",
   "execution_count": 150,
   "metadata": {},
   "outputs": [
    {
     "name": "stdout",
     "output_type": "stream",
     "text": [
      "---------- Gaussian Naive Bayes ---------------\n",
      "Naive Bayes Classification\n",
      "Accuracy in each fold: [87.59124087591242, 83.57664233576642, 82.48175182481752, 86.4963503649635, 85.40145985401459]\n",
      "Average Accuracy: 85.109489\n"
     ]
    }
   ],
   "source": [
    "main()"
   ]
  },
  {
   "cell_type": "code",
   "execution_count": null,
   "metadata": {},
   "outputs": [],
   "source": []
  }
 ],
 "metadata": {
  "kernelspec": {
   "display_name": "Python 3",
   "language": "python",
   "name": "python3"
  },
  "language_info": {
   "codemirror_mode": {
    "name": "ipython",
    "version": 3
   },
   "file_extension": ".py",
   "mimetype": "text/x-python",
   "name": "python",
   "nbconvert_exporter": "python",
   "pygments_lexer": "ipython3",
   "version": "3.8.5"
  }
 },
 "nbformat": 4,
 "nbformat_minor": 4
}
